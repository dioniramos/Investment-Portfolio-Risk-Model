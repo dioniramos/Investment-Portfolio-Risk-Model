{
 "metadata": {
  "language_info": {
   "codemirror_mode": {
    "name": "ipython",
    "version": 3
   },
   "file_extension": ".py",
   "mimetype": "text/x-python",
   "name": "python",
   "nbconvert_exporter": "python",
   "pygments_lexer": "ipython3",
   "version": "3.8.5-final"
  },
  "orig_nbformat": 2,
  "kernelspec": {
   "name": "python3",
   "display_name": "Python 3",
   "language": "python"
  }
 },
 "nbformat": 4,
 "nbformat_minor": 2,
 "cells": [
  {
   "source": [
    "## Investment Portfolio Risk Model\n",
    "***\n",
    "\n",
    "* __Objetivo__\n",
    "    - Modelar uma carteira de investimentos para gerenciamento de risco ao longo do tempo;\n",
    "\n",
    "* __Coleta dos dados__\n",
    "    - Webscraping da carteira de mercado do site da B3 para visualizar os tickers\n",
    "\n",
    "* __Modelagem__\n",
    "    - Geração de carteira com maior rentabilidade para os teste;\n",
    "    - Após modelo pronto Carregamento da carteira de investimentos de banco de dados .csv;\n",
    "    - Baixar as cotações históricas usando a API Yfinance;\n",
    "    - Dashboard com os resultados e gráficos;\n",
    "\n",
    "***\n",
    "### task list:\n",
    "* -[] Webscraping da carteira de mercado do site da B3;\n",
    "* -[] Geração de carteira com maior rentabilidade para os teste;\n",
    "* -[] Após modelo pronto Carregamento da carteira de investimentos de banco de dados .csv;\n",
    "* -[] Baixar as cotações históricas usando a API Yfinance;\n",
    "* -[] Dashboard com os resultados e gráficos.\n",
    "\n",
    "***\n"
   ],
   "cell_type": "markdown",
   "metadata": {}
  },
  {
   "source": [
    "### Imports"
   ],
   "cell_type": "markdown",
   "metadata": {}
  },
  {
   "cell_type": "code",
   "execution_count": null,
   "metadata": {},
   "outputs": [],
   "source": [
    "# Importação dos módulos\n",
    "import numpy    as np\n",
    "import pandas   as pd\n",
    "import yfinance as yf\n",
    "yf.pdr_override()\n",
    "import matplotlib.pyplot as plt\n",
    "import seaborn           as sns\n",
    "sns.set(style='darkgrid')\n",
    "\n",
    "from pandas_datareader import data as wb"
   ]
  },
  {
   "cell_type": "code",
   "execution_count": null,
   "metadata": {},
   "outputs": [],
   "source": [
    "### Webscraping da carteira de mercado do site da B3"
   ]
  },
  {
   "source": [
    "def buscar_carteira_teorica(indice):\n",
    "    url = 'http://bvmf.bmfbovespa.com.br/indices/ResumoCarteiraTeorica.aspx?Indice={}&amp;idioma=pt-br'.format(indice.upper())\n",
    "    return pd.read_html(url, decimal=',', thousands='.', index_col='Código')[0][:-1]"
   ],
   "cell_type": "markdown",
   "metadata": {}
  },
  {
   "cell_type": "code",
   "execution_count": null,
   "metadata": {},
   "outputs": [],
   "source": [
    "IBOV = buscar_carteira_teorica('IBOV')\n",
    "IBOV.sort_values('Part. (%)', ascending=False).head()"
   ]
  },
  {
   "cell_type": "code",
   "execution_count": null,
   "metadata": {},
   "outputs": [],
   "source": [
    "dados.sort_values('Part. (%)', ascending=False)\n",
    "dados.apply(lambda Código: \"Código\" + '.SA')\n",
    "dados.head()"
   ]
  },
  {
   "cell_type": "code",
   "execution_count": null,
   "metadata": {},
   "outputs": [],
   "source": [
    "tickers = [dados(CodigoYF)]\n",
    "tickers"
   ]
  },
  {
   "source": [
    "### Baixar as cotações históricas usando a API Yfinance"
   ],
   "cell_type": "markdown",
   "metadata": {}
  },
  {
   "cell_type": "code",
   "execution_count": null,
   "metadata": {},
   "outputs": [],
   "source": [
    "# Baixando as cotações\n",
    "stocks = [('CodigoYF')]\n",
    "\n",
    "mydata = pd.DataFrame()\n",
    "for t in stocks:\n",
    "    mydata[t] = web.DataReader(t, data_source='yahoo', start='2020-1-1')['Adj Close']"
   ]
  },
  {
   "cell_type": "code",
   "execution_count": null,
   "metadata": {},
   "outputs": [],
   "source": [
    "# Visualização das cotações\n",
    "\n",
    "mydata.tail()"
   ]
  },
  {
   "source": [
    "### Geração de carteira com maior rentabilidade para os teste"
   ],
   "cell_type": "markdown",
   "metadata": {}
  },
  {
   "cell_type": "code",
   "execution_count": null,
   "metadata": {},
   "outputs": [],
   "source": [
    "# Calculando retorno logaritmo do portfólio\n",
    "returns = (mydata / mydata.shift(1)) - 1\n",
    "returns.head()"
   ]
  },
  {
   "cell_type": "code",
   "execution_count": null,
   "metadata": {},
   "outputs": [],
   "source": [
    "# Matriz de correlação\n",
    "corr_matrix = returns.corr()\n",
    "corr_matrix"
   ]
  },
  {
   "cell_type": "code",
   "execution_count": null,
   "metadata": {},
   "outputs": [],
   "source": [
    "corr_matrix = returns.corr().round(2)\n",
    "\n",
    "plt.figure(figsize=(12,8))\n",
    "sns.heatmap(corr_matrix, annot=True, cmap=\"YlGnBu\")"
   ]
  },
  {
   "source": [
    "### Dashboard com os resultados e gráficos."
   ],
   "cell_type": "markdown",
   "metadata": {}
  },
  {
   "cell_type": "code",
   "execution_count": null,
   "metadata": {},
   "outputs": [],
   "source": []
  }
 ]
}